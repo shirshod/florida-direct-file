{
 "cells": [
  {
   "cell_type": "markdown",
   "id": "568dc3c1-9050-4cba-bd35-17decbd5e035",
   "metadata": {},
   "source": [
    "### Importing libraries"
   ]
  },
  {
   "cell_type": "code",
   "execution_count": 2,
   "id": "1dc25c8b-3ef2-4b49-852f-9ed9f52f1973",
   "metadata": {},
   "outputs": [],
   "source": [
    "import pandas as pd"
   ]
  },
  {
   "cell_type": "markdown",
   "id": "5f827b7d-fcaa-4ac8-8331-96dd9aa31b22",
   "metadata": {},
   "source": [
    "### Importing dataset"
   ]
  },
  {
   "cell_type": "code",
   "execution_count": 4,
   "id": "3403d37e-f260-47b0-b029-56c62eec7008",
   "metadata": {},
   "outputs": [
    {
     "name": "stderr",
     "output_type": "stream",
     "text": [
      "C:\\Users\\sdasgupta\\AppData\\Local\\Temp\\ipykernel_20036\\696628784.py:1: DtypeWarning: Columns (2,23,24,27,29,34,35,43,47,49,50) have mixed types. Specify dtype option on import or set low_memory=False.\n",
      "  minors_master = pd.read_csv(\"data/obts/minors_sentences_master.csv\")\n"
     ]
    },
    {
     "data": {
      "text/html": [
       "<div>\n",
       "<style scoped>\n",
       "    .dataframe tbody tr th:only-of-type {\n",
       "        vertical-align: middle;\n",
       "    }\n",
       "\n",
       "    .dataframe tbody tr th {\n",
       "        vertical-align: top;\n",
       "    }\n",
       "\n",
       "    .dataframe thead th {\n",
       "        text-align: right;\n",
       "    }\n",
       "</style>\n",
       "<table border=\"1\" class=\"dataframe\">\n",
       "  <thead>\n",
       "    <tr style=\"text-align: right;\">\n",
       "      <th></th>\n",
       "      <th>ID</th>\n",
       "      <th>OFF_TRAN_NO</th>\n",
       "      <th>COURT_DOCKET_NO</th>\n",
       "      <th>SEQUENCE_NO</th>\n",
       "      <th>NO_OF_COUNTS</th>\n",
       "      <th>COURT_DESIGNATOR</th>\n",
       "      <th>COUNTY</th>\n",
       "      <th>SEX</th>\n",
       "      <th>RACE</th>\n",
       "      <th>BIRTH_DATE</th>\n",
       "      <th>...</th>\n",
       "      <th>CT_TRIAL_TYPE</th>\n",
       "      <th>CT_FINAL_PLEA</th>\n",
       "      <th>ST_IMPOSED_DT</th>\n",
       "      <th>ST_CONFINE</th>\n",
       "      <th>ST_CONFINE_TYPE</th>\n",
       "      <th>ST_CONFINE_LEN_SUSP</th>\n",
       "      <th>ST_CREDIT_TIME</th>\n",
       "      <th>ST_SENT_PROV</th>\n",
       "      <th>ST_SP_SENT_PROV</th>\n",
       "      <th>ST_IMPOSED_YR</th>\n",
       "    </tr>\n",
       "  </thead>\n",
       "  <tbody>\n",
       "    <tr>\n",
       "      <th>0</th>\n",
       "      <td>48</td>\n",
       "      <td>8888888888</td>\n",
       "      <td>012005CF005485XXXAXX</td>\n",
       "      <td>1</td>\n",
       "      <td>1</td>\n",
       "      <td>R</td>\n",
       "      <td>1</td>\n",
       "      <td>M</td>\n",
       "      <td>W</td>\n",
       "      <td>1987-10-15</td>\n",
       "      <td>...</td>\n",
       "      <td>NaN</td>\n",
       "      <td>NaN</td>\n",
       "      <td>NaN</td>\n",
       "      <td>NaN</td>\n",
       "      <td>N</td>\n",
       "      <td>888888.0</td>\n",
       "      <td>0.0</td>\n",
       "      <td>NNNNN</td>\n",
       "      <td>NNNNNNN</td>\n",
       "      <td>NaN</td>\n",
       "    </tr>\n",
       "    <tr>\n",
       "      <th>1</th>\n",
       "      <td>49</td>\n",
       "      <td>8888888888</td>\n",
       "      <td>012005CF005485XXXAXX</td>\n",
       "      <td>2</td>\n",
       "      <td>1</td>\n",
       "      <td>R</td>\n",
       "      <td>1</td>\n",
       "      <td>M</td>\n",
       "      <td>W</td>\n",
       "      <td>1987-10-15</td>\n",
       "      <td>...</td>\n",
       "      <td>NaN</td>\n",
       "      <td>NaN</td>\n",
       "      <td>NaN</td>\n",
       "      <td>NaN</td>\n",
       "      <td>N</td>\n",
       "      <td>888888.0</td>\n",
       "      <td>0.0</td>\n",
       "      <td>NNNNN</td>\n",
       "      <td>NNNNNNN</td>\n",
       "      <td>NaN</td>\n",
       "    </tr>\n",
       "    <tr>\n",
       "      <th>2</th>\n",
       "      <td>50</td>\n",
       "      <td>8888888888</td>\n",
       "      <td>012005CF005485XXXAXX</td>\n",
       "      <td>3</td>\n",
       "      <td>1</td>\n",
       "      <td>R</td>\n",
       "      <td>1</td>\n",
       "      <td>M</td>\n",
       "      <td>W</td>\n",
       "      <td>1987-10-15</td>\n",
       "      <td>...</td>\n",
       "      <td>NaN</td>\n",
       "      <td>NaN</td>\n",
       "      <td>NaN</td>\n",
       "      <td>NaN</td>\n",
       "      <td>N</td>\n",
       "      <td>888888.0</td>\n",
       "      <td>0.0</td>\n",
       "      <td>NNNNN</td>\n",
       "      <td>NNNNNNN</td>\n",
       "      <td>NaN</td>\n",
       "    </tr>\n",
       "    <tr>\n",
       "      <th>3</th>\n",
       "      <td>51</td>\n",
       "      <td>8888888888</td>\n",
       "      <td>012005CF005485XXXAXX</td>\n",
       "      <td>4</td>\n",
       "      <td>1</td>\n",
       "      <td>R</td>\n",
       "      <td>1</td>\n",
       "      <td>M</td>\n",
       "      <td>W</td>\n",
       "      <td>1987-10-15</td>\n",
       "      <td>...</td>\n",
       "      <td>NaN</td>\n",
       "      <td>NaN</td>\n",
       "      <td>NaN</td>\n",
       "      <td>NaN</td>\n",
       "      <td>N</td>\n",
       "      <td>888888.0</td>\n",
       "      <td>0.0</td>\n",
       "      <td>NNNNN</td>\n",
       "      <td>NNNNNNN</td>\n",
       "      <td>NaN</td>\n",
       "    </tr>\n",
       "    <tr>\n",
       "      <th>4</th>\n",
       "      <td>290</td>\n",
       "      <td>8888888888</td>\n",
       "      <td>012007CF002605XXXAXX</td>\n",
       "      <td>1</td>\n",
       "      <td>1</td>\n",
       "      <td>R</td>\n",
       "      <td>1</td>\n",
       "      <td>M</td>\n",
       "      <td>B</td>\n",
       "      <td>1989-06-15</td>\n",
       "      <td>...</td>\n",
       "      <td>NaN</td>\n",
       "      <td>NaN</td>\n",
       "      <td>NaN</td>\n",
       "      <td>NaN</td>\n",
       "      <td>N</td>\n",
       "      <td>888888.0</td>\n",
       "      <td>0.0</td>\n",
       "      <td>NNNNN</td>\n",
       "      <td>NNNNNNN</td>\n",
       "      <td>NaN</td>\n",
       "    </tr>\n",
       "  </tbody>\n",
       "</table>\n",
       "<p>5 rows × 41 columns</p>\n",
       "</div>"
      ],
      "text/plain": [
       "    ID OFF_TRAN_NO       COURT_DOCKET_NO  SEQUENCE_NO  NO_OF_COUNTS  \\\n",
       "0   48  8888888888  012005CF005485XXXAXX            1             1   \n",
       "1   49  8888888888  012005CF005485XXXAXX            2             1   \n",
       "2   50  8888888888  012005CF005485XXXAXX            3             1   \n",
       "3   51  8888888888  012005CF005485XXXAXX            4             1   \n",
       "4  290  8888888888  012007CF002605XXXAXX            1             1   \n",
       "\n",
       "  COURT_DESIGNATOR  COUNTY SEX RACE  BIRTH_DATE  ... CT_TRIAL_TYPE  \\\n",
       "0                R       1   M    W  1987-10-15  ...           NaN   \n",
       "1                R       1   M    W  1987-10-15  ...           NaN   \n",
       "2                R       1   M    W  1987-10-15  ...           NaN   \n",
       "3                R       1   M    W  1987-10-15  ...           NaN   \n",
       "4                R       1   M    B  1989-06-15  ...           NaN   \n",
       "\n",
       "  CT_FINAL_PLEA ST_IMPOSED_DT ST_CONFINE ST_CONFINE_TYPE  ST_CONFINE_LEN_SUSP  \\\n",
       "0           NaN           NaN        NaN               N             888888.0   \n",
       "1           NaN           NaN        NaN               N             888888.0   \n",
       "2           NaN           NaN        NaN               N             888888.0   \n",
       "3           NaN           NaN        NaN               N             888888.0   \n",
       "4           NaN           NaN        NaN               N             888888.0   \n",
       "\n",
       "  ST_CREDIT_TIME ST_SENT_PROV ST_SP_SENT_PROV ST_IMPOSED_YR  \n",
       "0            0.0        NNNNN         NNNNNNN           NaN  \n",
       "1            0.0        NNNNN         NNNNNNN           NaN  \n",
       "2            0.0        NNNNN         NNNNNNN           NaN  \n",
       "3            0.0        NNNNN         NNNNNNN           NaN  \n",
       "4            0.0        NNNNN         NNNNNNN           NaN  \n",
       "\n",
       "[5 rows x 41 columns]"
      ]
     },
     "execution_count": 4,
     "metadata": {},
     "output_type": "execute_result"
    }
   ],
   "source": [
    "minors_master = pd.read_csv(\"data/obts/minors_sentences_master.csv\")\n",
    "\n",
    "columns_to_drop = [\"MESSAGE_TYPE\", \"ARREST_NAME\", \"FINAL_NAME\", \"PR_FLST_CHAP\", \"PR_FLST_SECT\", \"PR_FLST_SUBSECT\",\n",
    "                  \"CT_FLST_CHAP\", \"CT_FLST_SECT\", \"CT_FLST_SUBSECT\", \"ST_PROB_LEN\", \"ST_COMM_LEN\", \"ST_FINE\",\n",
    "                   \"ST_COURT_COST\", \"ST_RESTITUTION\"]\n",
    "minors_master = minors_master.drop(columns = columns_to_drop)\n",
    "\n",
    "minors_master.head()"
   ]
  },
  {
   "cell_type": "code",
   "execution_count": 5,
   "id": "90bcff94-ed11-4d77-b769-4ca46ee3d0ec",
   "metadata": {},
   "outputs": [
    {
     "name": "stdout",
     "output_type": "stream",
     "text": [
      "<class 'pandas.core.frame.DataFrame'>\n",
      "RangeIndex: 278795 entries, 0 to 278794\n",
      "Data columns (total 41 columns):\n",
      " #   Column                Non-Null Count   Dtype  \n",
      "---  ------                --------------   -----  \n",
      " 0   ID                    278795 non-null  int64  \n",
      " 1   OFF_TRAN_NO           278795 non-null  object \n",
      " 2   COURT_DOCKET_NO       278795 non-null  object \n",
      " 3   SEQUENCE_NO           278795 non-null  int64  \n",
      " 4   NO_OF_COUNTS          278795 non-null  int64  \n",
      " 5   COURT_DESIGNATOR      278795 non-null  object \n",
      " 6   COUNTY                278795 non-null  int64  \n",
      " 7   SEX                   276439 non-null  object \n",
      " 8   RACE                  273320 non-null  object \n",
      " 9   BIRTH_DATE            278795 non-null  object \n",
      " 10  INIT_ARREST_DT        274971 non-null  object \n",
      " 11  CLERK_DT              278782 non-null  object \n",
      " 12  OFFENSE_DT            278795 non-null  object \n",
      " 13  CAPIAS_DT             74337 non-null   object \n",
      " 14  REARREST_DT           31925 non-null   object \n",
      " 15  AGE                   278795 non-null  float64\n",
      " 16  PR_CHARGE_STATUS      270904 non-null  object \n",
      " 17  PR_CHARGE_LEVEL       225684 non-null  object \n",
      " 18  PR_CHARGE_DEGREE      230379 non-null  object \n",
      " 19  PR_GEN_OFF_CHAR       240064 non-null  object \n",
      " 20  PR_FILING_DT          241669 non-null  float64\n",
      " 21  PR_FINAL_DECISION_DT  229995 non-null  object \n",
      " 22  PR_FINAL_ACTION       173806 non-null  object \n",
      " 23  PR_COUNSEL_TYPE       217634 non-null  object \n",
      " 24  CT_CHARGE_STATUS      263182 non-null  object \n",
      " 25  CT_CHARGE_LEVEL       230431 non-null  object \n",
      " 26  CT_CHARGE_DEGREE      234264 non-null  object \n",
      " 27  CT_GEN_OFF_CHAR       240758 non-null  object \n",
      " 28  CT_DRUG_TYPE          197634 non-null  object \n",
      " 29  CT_DECISION_DT        234471 non-null  float64\n",
      " 30  CT_ACTION_TAKEN       180892 non-null  object \n",
      " 31  CT_TRIAL_TYPE         192901 non-null  float64\n",
      " 32  CT_FINAL_PLEA         181639 non-null  float64\n",
      " 33  ST_IMPOSED_DT         134442 non-null  object \n",
      " 34  ST_CONFINE            60916 non-null   object \n",
      " 35  ST_CONFINE_TYPE       229731 non-null  object \n",
      " 36  ST_CONFINE_LEN_SUSP   278776 non-null  float64\n",
      " 37  ST_CREDIT_TIME        248525 non-null  float64\n",
      " 38  ST_SENT_PROV          220492 non-null  object \n",
      " 39  ST_SP_SENT_PROV       217968 non-null  object \n",
      " 40  ST_IMPOSED_YR         134442 non-null  float64\n",
      "dtypes: float64(8), int64(4), object(29)\n",
      "memory usage: 87.2+ MB\n"
     ]
    }
   ],
   "source": [
    "minors_master.info()"
   ]
  },
  {
   "cell_type": "code",
   "execution_count": 6,
   "id": "ed91b5e6-fd9b-4abb-9c3f-d8f68ffd12fb",
   "metadata": {},
   "outputs": [
    {
     "data": {
      "text/plain": [
       "CT_CHARGE_LEVEL\n",
       "M    69523\n",
       "F    66357\n",
       "N    49469\n",
       "I    37669\n",
       "C     4472\n",
       "L     2940\n",
       "3        1\n",
       "Name: count, dtype: int64"
      ]
     },
     "execution_count": 6,
     "metadata": {},
     "output_type": "execute_result"
    }
   ],
   "source": [
    "minors_master[\"CT_CHARGE_LEVEL\"].value_counts()"
   ]
  },
  {
   "cell_type": "markdown",
   "id": "21c78e75-2995-46e0-b254-1b5ab7f63b66",
   "metadata": {},
   "source": [
    "### Analyzing data"
   ]
  },
  {
   "cell_type": "markdown",
   "id": "05d12d3d-b694-4ceb-a9bd-6074367747fa",
   "metadata": {},
   "source": [
    "#### Felonies and misdemeanors"
   ]
  },
  {
   "cell_type": "code",
   "execution_count": 9,
   "id": "5af351bb-4e63-49c5-a853-006c2f58dfe7",
   "metadata": {},
   "outputs": [
    {
     "name": "stdout",
     "output_type": "stream",
     "text": [
      "Total minors: 33841\n",
      "Minors with sentences of confinement: 18407\n",
      "Minors with juvenile sanctions: 2631\n",
      "Minors with no sentences of confinement: 15434\n",
      "Minors with life sentences: 44\n",
      "Minors with death sentences: 1\n"
     ]
    }
   ],
   "source": [
    "### filters for felonies and misdemeanors\n",
    "data = minors_master[minors_master[\"CT_CHARGE_LEVEL\"].isin([\"M\", \"F\"])].reset_index(drop = True)\n",
    "\n",
    "### stores offenders with sentences of confinement\n",
    "minors_master_sent = data[data[\"ST_CONFINE\"].notna()].reset_index(drop = True)\n",
    "### creating list of unique offenders\n",
    "unique_sent = minors_master_sent[\"OFF_TRAN_NO\"].unique().tolist()\n",
    "\n",
    "### stores offenders with juvenile sanctions\n",
    "minors_master_juvsent = data[data[\"CT_ACTION_TAKEN\"] == \"K\"].reset_index(drop = True)\n",
    "\n",
    "### stores offenders with no sentences of confinement\n",
    "minors_master_nosent = data[data[\"ST_CONFINE\"].isna()].reset_index(drop = True)\n",
    "### removing offenders whose other charges received a sentence of confinement\n",
    "minors_master_nosent = minors_master_nosent[~minors_master_nosent[\"OFF_TRAN_NO\"].isin(unique_sent)].reset_index(drop = True)\n",
    "\n",
    "### stores offenders with life sentences\n",
    "minors_master_life = data[data[\"ST_CONFINE\"] == \"LIFE\"].reset_index(drop = True)\n",
    "### stores offenders with death sentences\n",
    "minors_master_death = data[data[\"ST_CONFINE\"] == \"DEATH\"].reset_index(drop = True)\n",
    "\n",
    "print(\"Total minors:\", data[\"OFF_TRAN_NO\"].nunique())\n",
    "print(\"Minors with sentences of confinement:\" , minors_master_sent[\"OFF_TRAN_NO\"].nunique())\n",
    "print(\"Minors with juvenile sanctions:\" , minors_master_juvsent[\"OFF_TRAN_NO\"].nunique())\n",
    "print(\"Minors with no sentences of confinement:\", minors_master_nosent[\"OFF_TRAN_NO\"].nunique())\n",
    "print(\"Minors with life sentences:\", minors_master_life[\"OFF_TRAN_NO\"].nunique())\n",
    "print(\"Minors with death sentences:\", minors_master_death[\"OFF_TRAN_NO\"].nunique())\n"
   ]
  },
  {
   "cell_type": "code",
   "execution_count": 10,
   "id": "10e0e231-1276-4766-a512-34e4f7e408db",
   "metadata": {},
   "outputs": [
    {
     "data": {
      "text/plain": [
       "COURT_DESIGNATOR\n",
       "R    85838\n",
       "C    50042\n",
       "Name: count, dtype: int64"
      ]
     },
     "execution_count": 10,
     "metadata": {},
     "output_type": "execute_result"
    }
   ],
   "source": [
    "data[\"COURT_DESIGNATOR\"].value_counts()"
   ]
  },
  {
   "cell_type": "markdown",
   "id": "5d00c40b-5a78-481e-ad19-ae41559f54c5",
   "metadata": {},
   "source": [
    "#### Felonies"
   ]
  },
  {
   "cell_type": "code",
   "execution_count": 12,
   "id": "bcaed1a8-6cac-41e2-9e47-967ba20451b5",
   "metadata": {},
   "outputs": [
    {
     "name": "stdout",
     "output_type": "stream",
     "text": [
      "Total minors: 22812\n",
      "Minors with sentences of confinement: 15590\n",
      "Minors with juvenile sanctions: 1953\n",
      "Minors with no sentences of confinement: 7222\n",
      "Minors with life sentences: 44\n",
      "Minors with death sentences: 1\n"
     ]
    }
   ],
   "source": [
    "### filters for felonies\n",
    "data = minors_master[minors_master[\"CT_CHARGE_LEVEL\"] == \"F\"].reset_index(drop = True)\n",
    "\n",
    "### stores offenders with sentences of confinement\n",
    "minors_master_sent = data[data[\"ST_CONFINE\"].notna()].reset_index(drop = True)\n",
    "### creating list of unique offenders\n",
    "unique_sent = minors_master_sent[\"OFF_TRAN_NO\"].unique().tolist()\n",
    "\n",
    "### stores offenders with juvenile sanctions\n",
    "minors_master_juvsent = data[data[\"CT_ACTION_TAKEN\"] == \"K\"].reset_index(drop = True)\n",
    "\n",
    "### stores offenders with no sentences of confinement\n",
    "minors_master_nosent = data[data[\"ST_CONFINE\"].isna()].reset_index(drop = True)\n",
    "### removing offenders whose other charges received a sentence of confinement\n",
    "minors_master_nosent = minors_master_nosent[~minors_master_nosent[\"OFF_TRAN_NO\"].isin(unique_sent)].reset_index(drop = True)\n",
    "\n",
    "### stores offenders with life sentences\n",
    "minors_master_life = data[data[\"ST_CONFINE\"] == \"LIFE\"].reset_index(drop = True)\n",
    "### stores offenders with death sentences\n",
    "minors_master_death = data[data[\"ST_CONFINE\"] == \"DEATH\"].reset_index(drop = True)\n",
    "\n",
    "print(\"Total minors:\", data[\"OFF_TRAN_NO\"].nunique())\n",
    "print(\"Minors with sentences of confinement:\" , minors_master_sent[\"OFF_TRAN_NO\"].nunique())\n",
    "print(\"Minors with juvenile sanctions:\" , minors_master_juvsent[\"OFF_TRAN_NO\"].nunique())\n",
    "print(\"Minors with no sentences of confinement:\", minors_master_nosent[\"OFF_TRAN_NO\"].nunique())\n",
    "print(\"Minors with life sentences:\", minors_master_life[\"OFF_TRAN_NO\"].nunique())\n",
    "print(\"Minors with death sentences:\", minors_master_death[\"OFF_TRAN_NO\"].nunique())"
   ]
  },
  {
   "cell_type": "code",
   "execution_count": 13,
   "id": "ed746dd2-8b17-439c-8921-d83171508e47",
   "metadata": {},
   "outputs": [
    {
     "data": {
      "text/plain": [
       "COURT_DESIGNATOR\n",
       "R    66353\n",
       "C        4\n",
       "Name: count, dtype: int64"
      ]
     },
     "execution_count": 13,
     "metadata": {},
     "output_type": "execute_result"
    }
   ],
   "source": [
    "data[\"COURT_DESIGNATOR\"].value_counts()"
   ]
  },
  {
   "cell_type": "markdown",
   "id": "5ac2bba8-5fab-4f48-9b38-730a05906275",
   "metadata": {},
   "source": [
    "#### Misdemeanors"
   ]
  },
  {
   "cell_type": "code",
   "execution_count": 15,
   "id": "4819534a-e418-4acb-8c02-92d12ec60008",
   "metadata": {},
   "outputs": [
    {
     "name": "stdout",
     "output_type": "stream",
     "text": [
      "Total minors: 17096\n",
      "Minors with sentences of confinement: 5264\n",
      "Minors with juvenile sanctions: 1223\n",
      "Minors with no sentences of confinement: 11832\n",
      "Minors with life sentences: 0\n",
      "Minors with death sentences: 0\n"
     ]
    }
   ],
   "source": [
    "### filters for misdemeanors\n",
    "data = minors_master[minors_master[\"CT_CHARGE_LEVEL\"] == \"M\"].reset_index(drop = True)\n",
    "\n",
    "### stores offenders with sentences of confinement\n",
    "minors_master_sent = data[data[\"ST_CONFINE\"].notna()].reset_index(drop = True)\n",
    "### creating list of unique offenders\n",
    "unique_sent = minors_master_sent[\"OFF_TRAN_NO\"].unique().tolist()\n",
    "\n",
    "### stores offenders with juvenile sanctions\n",
    "minors_master_juvsent = data[data[\"CT_ACTION_TAKEN\"] == \"K\"].reset_index(drop = True)\n",
    "\n",
    "### stores offenders with no sentences of confinement\n",
    "minors_master_nosent = data[data[\"ST_CONFINE\"].isna()].reset_index(drop = True)\n",
    "### removing offenders whose other charges received a sentence of confinement\n",
    "minors_master_nosent = minors_master_nosent[~minors_master_nosent[\"OFF_TRAN_NO\"].isin(unique_sent)].reset_index(drop = True)\n",
    "\n",
    "### stores offenders with life sentences\n",
    "minors_master_life = data[data[\"ST_CONFINE\"] == \"LIFE\"].reset_index(drop = True)\n",
    "### stores offenders with death sentences\n",
    "minors_master_death = data[data[\"ST_CONFINE\"] == \"DEATH\"].reset_index(drop = True)\n",
    "\n",
    "print(\"Total minors:\", data[\"OFF_TRAN_NO\"].nunique())\n",
    "print(\"Minors with sentences of confinement:\" , minors_master_sent[\"OFF_TRAN_NO\"].nunique())\n",
    "print(\"Minors with juvenile sanctions:\" , minors_master_juvsent[\"OFF_TRAN_NO\"].nunique())\n",
    "print(\"Minors with no sentences of confinement:\", minors_master_nosent[\"OFF_TRAN_NO\"].nunique())\n",
    "print(\"Minors with life sentences:\", minors_master_life[\"OFF_TRAN_NO\"].nunique())\n",
    "print(\"Minors with death sentences:\", minors_master_death[\"OFF_TRAN_NO\"].nunique())"
   ]
  },
  {
   "cell_type": "code",
   "execution_count": 16,
   "id": "4437a279-0525-4c45-953b-dd8cb0c09d70",
   "metadata": {},
   "outputs": [
    {
     "data": {
      "text/plain": [
       "COURT_DESIGNATOR\n",
       "C    50038\n",
       "R    19485\n",
       "Name: count, dtype: int64"
      ]
     },
     "execution_count": 16,
     "metadata": {},
     "output_type": "execute_result"
    }
   ],
   "source": [
    "data[\"COURT_DESIGNATOR\"].value_counts()"
   ]
  }
 ],
 "metadata": {
  "kernelspec": {
   "display_name": "Python 3 (ipykernel)",
   "language": "python",
   "name": "python3"
  },
  "language_info": {
   "codemirror_mode": {
    "name": "ipython",
    "version": 3
   },
   "file_extension": ".py",
   "mimetype": "text/x-python",
   "name": "python",
   "nbconvert_exporter": "python",
   "pygments_lexer": "ipython3",
   "version": "3.11.7"
  }
 },
 "nbformat": 4,
 "nbformat_minor": 5
}
